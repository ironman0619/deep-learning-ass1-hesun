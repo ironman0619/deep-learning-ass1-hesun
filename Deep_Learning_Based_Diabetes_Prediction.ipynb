{
 "cells": [
  {
   "cell_type": "markdown",
   "metadata": {
    "id": "Fps1offGDuGi"
   },
   "source": [
    "# Import Libraries"
   ]
  },
  {
   "cell_type": "code",
   "execution_count": 77,
   "metadata": {
    "id": "BbdqzrH3DwzV"
   },
   "outputs": [],
   "source": [
    "import random\n",
    "import torch\n",
    "import torch.nn as nn\n",
    "from sklearn.datasets import load_svmlight_file\n",
    "from sklearn.linear_model import LinearRegression, LogisticRegression\n",
    "from sklearn.metrics import accuracy_score, precision_score, recall_score, f1_score\n",
    "from sklearn.model_selection import train_test_split\n",
    "import numpy as np\n",
    "from sklearn.neighbors import KNeighborsClassifier\n",
    "from sklearn.svm import SVC\n",
    "from torch.utils.data import Dataset, DataLoader\n",
    "\n",
    "import warnings\n",
    "warnings.filterwarnings(\"ignore\")\n",
    "\n",
    "device = torch.device(\"cuda:0\" if torch.cuda.is_available() else \"cpu\")\n",
    "file_name = 'diabetes_scale'"
   ]
  },
  {
   "cell_type": "markdown",
   "metadata": {
    "id": "VW_tb5n12BOo"
   },
   "source": [
    "# Data to load"
   ]
  },
  {
   "cell_type": "code",
   "execution_count": 78,
   "metadata": {
    "id": "5yvQTgS21JbE"
   },
   "outputs": [],
   "source": [
    "# Load data\n",
    "X, y = load_svmlight_file(file_name)\n",
    "X_dense = X.toarray()\n",
    "# Split dataset (6:2:2)\n",
    "X_train_all, X_test, y_train_all, y_test = train_test_split(X_dense, y, test_size=0.2, random_state=42)\n",
    "\n",
    "X_train_all = torch.FloatTensor(X_train_all).to(device)\n",
    "y_train_all = torch.FloatTensor(y_train_all).unsqueeze(1).to(device)\n",
    "y_train_all = (y_train_all + 1) / 2\n",
    "\n",
    "X_test = torch.FloatTensor(X_test).to(device)\n",
    "y_test = torch.FloatTensor(y_test).unsqueeze(1).to(device)\n",
    "y_test = (y_test + 1) / 2"
   ]
  },
  {
   "cell_type": "markdown",
   "metadata": {
    "id": "xzA7rzeOEAq0"
   },
   "source": [
    "# hyper-parameters and model difination"
   ]
  },
  {
   "cell_type": "code",
   "execution_count": 79,
   "metadata": {
    "id": "rXkuAp0t3A6s"
   },
   "outputs": [],
   "source": [
    "lr = 0.001\n",
    "batch_size = 128\n",
    "epochs = 100\n",
    "\n",
    "class MLP(nn.Module):\n",
    "    def __init__(self, input_size, hidden_size1, hidden_size2, output_size):\n",
    "        super(MLP, self).__init__()\n",
    "        self.layer1 = nn.Sequential(\n",
    "            nn.Linear(input_size, hidden_size1),\n",
    "            nn.BatchNorm1d(hidden_size1),\n",
    "            nn.ReLU()\n",
    "        )\n",
    "        self.layer2 = nn.Sequential(\n",
    "            nn.Linear(hidden_size1, hidden_size2),\n",
    "            nn.BatchNorm1d(hidden_size2),\n",
    "            nn.ReLU()\n",
    "        )\n",
    "        self.output_layer = nn.Sequential(\n",
    "            nn.Linear(hidden_size2, output_size),\n",
    "            nn.Sigmoid()\n",
    "        )\n",
    "\n",
    "    def forward(self, x):\n",
    "        x = self.layer1(x)\n",
    "        x = self.layer2(x)\n",
    "        x = self.output_layer(x)\n",
    "        return x"
   ]
  },
  {
   "cell_type": "markdown",
   "metadata": {
    "id": "3-eYSt345i6T"
   },
   "source": [
    "# Train and Test"
   ]
  },
  {
   "cell_type": "code",
   "execution_count": 80,
   "metadata": {
    "colab": {
     "base_uri": "https://localhost:8080/"
    },
    "id": "r63bvxdh3rvz",
    "outputId": "e198c8f2-ef63-4dc5-a09c-ac87bd4d05fc"
   },
   "outputs": [
    {
     "name": "stdout",
     "output_type": "stream",
     "text": [
      "Test Accuracy: 0.7662337662337663\n",
      "Test Precision: 0.8118811881188119\n",
      "Test Recall: 0.8282828282828283\n",
      "Test F1 Score: 0.8200000000000001\n"
     ]
    }
   ],
   "source": [
    "class CustomDataset(Dataset):\n",
    "    def __init__(self, X, y):\n",
    "        self.X = X\n",
    "        self.y = y\n",
    "\n",
    "    def __len__(self):\n",
    "        return len(self.X)\n",
    "\n",
    "    def __getitem__(self, idx):\n",
    "        return self.X[idx], self.y[idx]\n",
    "\n",
    "\n",
    "model = MLP(X_train_all.shape[1], 32, 4, 1).to(device)\n",
    "model.train()\n",
    "optimizer = torch.optim.Adam(params=model.parameters(), lr=lr)\n",
    "custom_dataset = CustomDataset(X_train_all, y_train_all)\n",
    "data_loader = DataLoader(custom_dataset, batch_size=batch_size, shuffle=True, num_workers=0)\n",
    "criterion = nn.BCELoss()\n",
    "\n",
    "loss_epoch = 0\n",
    "\n",
    "for epoch in range(epochs):\n",
    "    for batch_X, batch_y in data_loader:\n",
    "        batch_X = batch_X.to(device)\n",
    "        batch_y = batch_y.to(device)\n",
    "        optimizer.zero_grad()\n",
    "        outputs = model(batch_X)\n",
    "        loss = criterion(outputs, batch_y)\n",
    "        loss.backward()\n",
    "        optimizer.step()\n",
    "\n",
    "        loss_epoch += loss.item() * batch_X.shape[0]\n",
    "    loss_epoch /= X_train_all.shape[0]\n",
    "    # print(loss_epoch)\n",
    "\n",
    "with torch.no_grad():\n",
    "    model.eval()\n",
    "    test_outputs = model(X_test)\n",
    "    test_predicted = (test_outputs > 0.5).float()\n",
    "    test_accuracy = accuracy_score(y_test.cpu().numpy(), test_predicted.cpu().numpy())\n",
    "    test_precision = precision_score(y_test.cpu().numpy(), test_predicted.cpu().numpy())\n",
    "    test_recall = recall_score(y_test.cpu().numpy(), test_predicted.cpu().numpy())\n",
    "    test_f1 = f1_score(y_test.cpu().numpy(), test_predicted.cpu().numpy())\n",
    "\n",
    "    print('Test Accuracy:', test_accuracy)\n",
    "    print('Test Precision:', test_precision)\n",
    "    print('Test Recall:', test_recall)\n",
    "    print('Test F1 Score:', test_f1)"
   ]
  },
  {
   "cell_type": "markdown",
   "metadata": {
    "id": "xKZXQcKwENJ5"
   },
   "source": [
    "# Other Methods"
   ]
  },
  {
   "cell_type": "code",
   "execution_count": 81,
   "metadata": {
    "colab": {
     "base_uri": "https://localhost:8080/"
    },
    "id": "ON9MT4qj5k5N",
    "outputId": "27eda688-f8ad-4582-8fad-c319095d6f47"
   },
   "outputs": [
    {
     "name": "stdout",
     "output_type": "stream",
     "text": [
      "Logistic Regression Accuracy: 0.7532467532467533\n",
      "Logistic Regression Precision: 0.8080808080808081\n",
      "Logistic Regression Recall: 0.8080808080808081\n",
      "Logistic Regression F1 Score: 0.8080808080808081\n",
      "Linear Kernel SVM Accuracy: 0.7597402597402597\n",
      "Linear Kernel SVM Precision: 0.81\n",
      "Linear Kernel SVM Recall: 0.8181818181818182\n",
      "Linear Kernel SVM F1 Score: 0.8140703517587939\n",
      "KNN Accuracy: 0.6883116883116883\n",
      "KNN Precision: 0.7428571428571429\n",
      "KNN Recall: 0.7878787878787878\n",
      "KNN F1 Score: 0.7647058823529412\n"
     ]
    }
   ],
   "source": [
    "X_train_all = X_train_all.detach().cpu().numpy()\n",
    "y_train_all = y_train_all.detach().cpu().numpy()\n",
    "X_test = X_test.detach().cpu().numpy()\n",
    "y_test = y_test.detach().cpu().numpy()\n",
    "\n",
    "# Linear Regression\n",
    "logistic_reg = LogisticRegression()\n",
    "logistic_reg.fit(X_train_all, y_train_all)\n",
    "\n",
    "# Predict\n",
    "logistic_reg_predictions = logistic_reg.predict(X_test)\n",
    "logistic_reg_predictions = (logistic_reg_predictions > 0.5).astype(int)\n",
    "\n",
    "# Evaluate\n",
    "logistic_reg_accuracy = accuracy_score(y_test, logistic_reg_predictions)\n",
    "logistic_reg_precision = precision_score(y_test, logistic_reg_predictions)\n",
    "logistic_reg_recall = recall_score(y_test, logistic_reg_predictions)\n",
    "logistic_reg_f1 = f1_score(y_test, logistic_reg_predictions)\n",
    "\n",
    "print('Logistic Regression Accuracy:', logistic_reg_accuracy)\n",
    "print('Logistic Regression Precision:', logistic_reg_precision)\n",
    "print('Logistic Regression Recall:', logistic_reg_recall)\n",
    "print('Logistic Regression F1 Score:', logistic_reg_f1)\n",
    "\n",
    "# Linear Kernel SVM\n",
    "linear_svm = SVC(kernel='linear')\n",
    "linear_svm.fit(X_train_all, y_train_all)\n",
    "\n",
    "# Predict\n",
    "linear_svm_predictions = linear_svm.predict(X_test)\n",
    "\n",
    "# Evaluate\n",
    "linear_svm_accuracy = accuracy_score(y_test, linear_svm_predictions)\n",
    "linear_svm_precision = precision_score(y_test, linear_svm_predictions)\n",
    "linear_svm_recall = recall_score(y_test, linear_svm_predictions)\n",
    "linear_svm_f1 = f1_score(y_test, linear_svm_predictions)\n",
    "\n",
    "print('Linear Kernel SVM Accuracy:', linear_svm_accuracy)\n",
    "print('Linear Kernel SVM Precision:', linear_svm_precision)\n",
    "print('Linear Kernel SVM Recall:', linear_svm_recall)\n",
    "print('Linear Kernel SVM F1 Score:', linear_svm_f1)\n",
    "\n",
    "# KNN\n",
    "knn = KNeighborsClassifier(n_neighbors=5)  \n",
    "knn.fit(X_train_all, y_train_all)\n",
    "knn_predictions = knn.predict(X_test)\n",
    "\n",
    "knn_accuracy = accuracy_score(y_test, knn_predictions)\n",
    "knn_precision = precision_score(y_test, knn_predictions)\n",
    "knn_recall = recall_score(y_test, knn_predictions)\n",
    "knn_f1 = f1_score(y_test, knn_predictions)\n",
    "\n",
    "print('KNN Accuracy:', knn_accuracy)\n",
    "print('KNN Precision:', knn_precision)\n",
    "print('KNN Recall:', knn_recall)\n",
    "print('KNN F1 Score:', knn_f1)\n",
    "\n",
    "import matplotlib.pyplot as plt"
   ]
  },
  {
   "cell_type": "markdown",
   "metadata": {
    "id": "IRo7lOmdEeG6"
   },
   "source": [
    "# Plotting"
   ]
  },
  {
   "cell_type": "code",
   "execution_count": 82,
   "metadata": {
    "colab": {
     "base_uri": "https://localhost:8080/",
     "height": 707
    },
    "id": "Sb5VERO3EfQI",
    "outputId": "bda9ea75-57be-46c9-9bbc-c53a242516eb"
   },
   "outputs": [
    {
     "data": {
      "image/png": "[encoded data removed]",
      "text/plain": [
       "<Figure size 1000x700 with 1 Axes>"
      ]
     },
     "metadata": {},
     "output_type": "display_data"
    }
   ],
   "source": [
    "# Metrics\n",
    "metrics = ['Accuracy', 'Precision', 'Recall', 'F1 Score']\n",
    "\n",
    "# Model performance data collected from previous code\n",
    "mlp_performance = [test_accuracy, test_precision, test_recall, test_f1]\n",
    "logreg_performance = [logistic_reg_accuracy, logistic_reg_precision, logistic_reg_recall, logistic_reg_f1]\n",
    "svm_performance = [linear_svm_accuracy, linear_svm_precision, linear_svm_recall, linear_svm_f1]\n",
    "knn_performance = [knn_accuracy, knn_precision, knn_recall, knn_f1]\n",
    "\n",
    "barWidth = 0.2\n",
    "r1 = np.arange(len(mlp_performance))\n",
    "r2 = [x + barWidth for x in r1]\n",
    "r3 = [x + barWidth for x in r2]\n",
    "r4 = [x + barWidth for x in r3]\n",
    "\n",
    "plt.figure(figsize=(10, 7))\n",
    "\n",
    "# Create bar chart\n",
    "plt.bar(r1, mlp_performance, width=barWidth, edgecolor='white', label='MLP')\n",
    "plt.bar(r2, logreg_performance, width=barWidth, edgecolor='white', label='Logistic Regression')\n",
    "plt.bar(r3, svm_performance, width=barWidth, edgecolor='white', label='Linear SVM')\n",
    "plt.bar(r4, knn_performance, width=barWidth, edgecolor='white', label='KNN')\n",
    "\n",
    "# Add title and legend\n",
    "plt.title('Performance comparison')\n",
    "plt.xlabel('Metrics', fontweight='bold')\n",
    "plt.ylabel('Value', fontweight='bold')\n",
    "plt.xticks([r + barWidth for r in range(len(mlp_performance))], metrics)\n",
    "\n",
    "plt.legend()\n",
    "plt.tight_layout()\n",
    "plt.show()"
   ]
  }
 ],
 "metadata": {
  "accelerator": "GPU",
  "colab": {
   "gpuType": "T4",
   "provenance": []
  },
  "kernelspec": {
   "display_name": "Python 3 (ipykernel)",
   "language": "python",
   "name": "python3"
  },
  "language_info": {
   "codemirror_mode": {
    "name": "ipython",
    "version": 3
   },
   "file_extension": ".py",
   "mimetype": "text/x-python",
   "name": "python",
   "nbconvert_exporter": "python",
   "pygments_lexer": "ipython3",
   "version": "3.11.3"
  }
 },
 "nbformat": 4,
 "nbformat_minor": 1
}
